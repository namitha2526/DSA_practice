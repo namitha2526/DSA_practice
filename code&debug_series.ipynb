{
 "cells": [
  {
   "cell_type": "markdown",
   "id": "240fb279-1911-4e72-9118-e11c8133abbe",
   "metadata": {},
   "source": [
    "#### palindrome"
   ]
  },
  {
   "cell_type": "code",
   "execution_count": 1,
   "id": "32333e26-0eff-47d5-904a-4e34151dbb62",
   "metadata": {},
   "outputs": [
    {
     "name": "stdout",
     "output_type": "stream",
     "text": [
      "pal : 12321\n",
      "yes\n"
     ]
    }
   ],
   "source": [
    "num = 12321\n",
    "def palindrome(num):\n",
    "    n = num\n",
    "    rev =0\n",
    "    while n > 0:\n",
    "        last = n % 10\n",
    "        rev = rev * 10 + last\n",
    "        n//=10\n",
    "    return rev\n",
    "pal = palindrome(num)\n",
    "print(\"pal :\",pal)\n",
    "if pal == num:\n",
    "    print(\"yes\")\n",
    "else:\n",
    "    print(\"noo\")\n"
   ]
  },
  {
   "cell_type": "code",
   "execution_count": 3,
   "id": "3a4ea5f5-b2a7-485c-b538-0c645cc5e517",
   "metadata": {},
   "outputs": [
    {
     "name": "stdout",
     "output_type": "stream",
     "text": [
      "True\n"
     ]
    }
   ],
   "source": [
    "num = 12321\n",
    "def palindrome(num):\n",
    "    n = num\n",
    "    rev =0\n",
    "    while n > 0:\n",
    "        last = n % 10\n",
    "        rev = rev * 10 + last\n",
    "        n//=10\n",
    "    return num == rev\n",
    "print(palindrome(num))"
   ]
  },
  {
   "cell_type": "markdown",
   "id": "9fde4520-a126-4736-b06f-4a092aea5ac5",
   "metadata": {},
   "source": [
    "#### armstrong"
   ]
  },
  {
   "cell_type": "code",
   "execution_count": 9,
   "id": "a04df7ba-b843-4278-92b0-62fb9cb14b0b",
   "metadata": {},
   "outputs": [
    {
     "name": "stdout",
     "output_type": "stream",
     "text": [
      "False\n"
     ]
    }
   ],
   "source": [
    "from math import * \n",
    "num = 153\n",
    "def armstrong(num):\n",
    "    n = num\n",
    "    total = 0\n",
    "    count  = int(log10(n)+1)\n",
    "    while n>0:\n",
    "        last = n % 10\n",
    "        total += last ** count\n",
    "        n //= 10\n",
    "    return total == num\n",
    "print(armstrong(num))\n",
    "\n",
    "              "
   ]
  },
  {
   "cell_type": "code",
   "execution_count": 7,
   "id": "1f5120a1-9d03-413b-b3e1-3017771aa67d",
   "metadata": {},
   "outputs": [
    {
     "name": "stdout",
     "output_type": "stream",
     "text": [
      "4\n"
     ]
    }
   ],
   "source": [
    "##counting num\n",
    "num = 5467\n",
    "from math import *\n",
    "def count(num):\n",
    "    return int(log10(num)+1)\n",
    "print(count(num))"
   ]
  },
  {
   "cell_type": "markdown",
   "id": "88711392-8db1-4d76-8972-a1da039378bd",
   "metadata": {},
   "source": [
    "#### factors of given numbers"
   ]
  },
  {
   "cell_type": "code",
   "execution_count": 64,
   "id": "a5dded6d-10bc-4268-be2b-c369b9016819",
   "metadata": {},
   "outputs": [
    {
     "name": "stdout",
     "output_type": "stream",
     "text": [
      "[1, 2, 4, 5, 10, 20]\n"
     ]
    }
   ],
   "source": [
    "fact = 20\n",
    "def factor(fact):\n",
    "    res=[]\n",
    "    for n in range(1,fact+1):\n",
    "        if fact%n == 0:\n",
    "            res.append(n)\n",
    "    return res   \n",
    "print(factor(fact))\n",
    "        \n",
    "\n",
    "\n",
    "        \n",
    "    "
   ]
  },
  {
   "cell_type": "code",
   "execution_count": 73,
   "id": "e39590e6-f18a-468f-b2f0-187adc8ed588",
   "metadata": {},
   "outputs": [
    {
     "name": "stdout",
     "output_type": "stream",
     "text": [
      "[1, 2, 3, 4, 6, 9, 12, 18, 36]\n"
     ]
    }
   ],
   "source": [
    "## optimized solution\n",
    "from math import sqrt\n",
    "num = 36\n",
    "def factor(num):\n",
    "    result = []\n",
    "    for i in range(1,int(sqrt(num))+1):\n",
    "        if num % i == 0:\n",
    "            result.append(i)\n",
    "            if num//i != i:\n",
    "                result.append(num//i)\n",
    "    result.sort()\n",
    "    return result\n",
    "print(factor(num))"
   ]
  },
  {
   "cell_type": "markdown",
   "id": "6b8029a5-ac3b-4399-bd4b-7de7028e5843",
   "metadata": {},
   "source": [
    "### Hashing"
   ]
  },
  {
   "cell_type": "markdown",
   "id": "1b6c3836-228d-435f-91f0-7c45b4ad8383",
   "metadata": {},
   "source": [
    "#### frequency "
   ]
  },
  {
   "cell_type": "code",
   "execution_count": 5,
   "id": "51844beb-bfd5-4c2f-b8c7-ddf6e7a15b8f",
   "metadata": {},
   "outputs": [
    {
     "name": "stdout",
     "output_type": "stream",
     "text": [
      "{1: 4, 2: 3, 3: 4}\n"
     ]
    }
   ],
   "source": [
    "hash_map={}\n",
    "num=[1,2,3,1,2,3,1,2,3,1,3]\n",
    "n=len(num)\n",
    "for i in range(0,n):\n",
    "    hash_map[num[i]]=hash_map.get(num[i],0)+1\n",
    "print(hash_map)\n"
   ]
  },
  {
   "cell_type": "code",
   "execution_count": 25,
   "id": "360eae08-73c9-46cb-8769-3edf3e9bd5b7",
   "metadata": {},
   "outputs": [
    {
     "name": "stdout",
     "output_type": "stream",
     "text": [
      "1\n",
      "0\n",
      "1\n",
      "1\n",
      "1\n",
      "1\n",
      "1\n",
      "0\n",
      "1\n",
      "1\n"
     ]
    }
   ],
   "source": [
    "#### hashing not good method \n",
    "m=[5,3,2,2,1,5,5,7,5,10]\n",
    "n=[10,111,1,9,5,67,2]\n",
    "\n",
    "for i in m:\n",
    "    count =0\n",
    "    for j in n:\n",
    "        if i == j:\n",
    "            count+=1\n",
    "    print( count)"
   ]
  },
  {
   "cell_type": "code",
   "execution_count": 45,
   "id": "a1fa8ab4-b901-4147-b74d-b9bb06dfbd2a",
   "metadata": {},
   "outputs": [
    {
     "name": "stdout",
     "output_type": "stream",
     "text": [
      "1\n",
      "0\n",
      "1\n",
      "0\n",
      "4\n",
      "0\n",
      "2\n"
     ]
    }
   ],
   "source": [
    "#### optimized\n",
    "m=[5,3,2,2,1,5,5,7,5,10]\n",
    "n=[10,111,1,9,5,67,2]\n",
    "hash_mapp=[0]*11\n",
    "for num in m:\n",
    "    hash_mapp[num]+=1\n",
    "for num in n:\n",
    "    if num<0 or num>10:\n",
    "        print(0)\n",
    "    else:\n",
    "        print(hash_mapp[num])"
   ]
  },
  {
   "cell_type": "code",
   "execution_count": 63,
   "id": "a559560c-c533-4dbf-803d-f38a3377366a",
   "metadata": {},
   "outputs": [
    {
     "name": "stdout",
     "output_type": "stream",
     "text": [
      "1\n",
      "0\n",
      "1\n",
      "0\n",
      "4\n",
      "0\n",
      "2\n"
     ]
    }
   ],
   "source": [
    "### using get\n",
    "m=[5,3,2,2,1,5,5,7,5,10]\n",
    "n=[10,111,1,9,5,67,2]\n",
    "hashing={}\n",
    "for i in range(0,len(m)):                            #frequency for m\n",
    "    hashing[m[i]] = hashing.get(m[i],0)+1\n",
    "for i in n:                                          #check each element in n\n",
    "    count = hashing.get(i,0)\n",
    "    print(count)\n"
   ]
  },
  {
   "cell_type": "code",
   "execution_count": 71,
   "id": "1724ec74-6192-4160-8d61-e8ef950f7f29",
   "metadata": {},
   "outputs": [
    {
     "name": "stdout",
     "output_type": "stream",
     "text": [
      "1\n",
      "0\n",
      "1\n",
      "0\n",
      "4\n",
      "0\n",
      "2\n"
     ]
    }
   ],
   "source": [
    "m = [5,3,2,2,1,5,5,7,5,10]\n",
    "n = [10,111,1,9,5,67,2]\n",
    "\n",
    "hashing = {}\n",
    "for i in m:\n",
    "    hashing[i] = hashing.get(i, 0) + 1\n",
    "\n",
    "for i in n:\n",
    "    print(hashing.get(i, 0))\n"
   ]
  },
  {
   "cell_type": "code",
   "execution_count": 85,
   "id": "b7d9f52c-88c3-496a-8abc-9c7abd20905f",
   "metadata": {},
   "outputs": [
    {
     "name": "stdout",
     "output_type": "stream",
     "text": [
      "2\n",
      "{1: 2, 2: 2}\n",
      "dict_keys([1, 2])\n"
     ]
    }
   ],
   "source": [
    "##350\n",
    "\n",
    "def intersect(self, nums1, nums2):\n",
    "    hashmap = {}\n",
    "    for num in nums1:\n",
    "        hashmap[num] = hashmap.get(num, 0) + 1\n",
    "\n",
    "    res = []\n",
    "    for i in nums2:\n",
    "        if i in hashmap and hashmap[i] > 0:\n",
    "            res.append(i)\n",
    "            hashmap[i] -= 1\n",
    "    return res\n",
    "\n",
    "            "
   ]
  },
  {
   "cell_type": "code",
   "execution_count": 87,
   "id": "ccdd209a-d9b1-4931-b2b7-26f8b783c4f6",
   "metadata": {},
   "outputs": [],
   "source": [
    "## 349 \n",
    "def intersection(self, nums1, nums2):\n",
    "    hash={}\n",
    "    res=[]\n",
    "    for i in nums1:\n",
    "        hash[i]=hash.get(i,0)+1\n",
    "    for i in nums2:\n",
    "        if i in hash:\n",
    "            res.append(i)\n",
    "            del hash[i]\n",
    "    return res"
   ]
  },
  {
   "cell_type": "markdown",
   "id": "25a5ba15-c280-48ab-a5a5-4e88f495c019",
   "metadata": {},
   "source": [
    "#### character hashing"
   ]
  },
  {
   "cell_type": "code",
   "execution_count": 100,
   "id": "339b0505-7b18-4188-894a-37e80870ae98",
   "metadata": {},
   "outputs": [
    {
     "name": "stdout",
     "output_type": "stream",
     "text": [
      "[5, 0, 0, 0, 0, 0, 0, 0, 0, 0, 0, 0, 0, 0, 0, 0, 0, 0, 0, 0, 0, 0, 0, 1, 3, 2]\n"
     ]
    }
   ],
   "source": [
    "s = \"azyxyyzaaaa\"\n",
    "q = [\"d\",\"a\",\"y\",\"u\"]\n",
    "hash_map = [0]*26\n",
    "for ch in s:\n",
    "    ascii_val=ord(ch)\n",
    "    ind = ascii_val -97\n",
    "    hash_map[ind]+=1\n",
    "for ch in q:\n",
    "    ascii_val =ord(ch)\n",
    "    ind = ascii_val -97\n",
    "print(hash_map)"
   ]
  },
  {
   "cell_type": "code",
   "execution_count": 102,
   "id": "6cc5d256-d00c-4d84-a793-fd384e5a398e",
   "metadata": {},
   "outputs": [
    {
     "name": "stdout",
     "output_type": "stream",
     "text": [
      "0\n",
      "5\n",
      "3\n",
      "0\n"
     ]
    }
   ],
   "source": [
    "hash_map={}\n",
    "\n",
    "for char in s:\n",
    "\n",
    "    hash_map[char]=hash_map.get(char,0)+1\n",
    "\n",
    "for char in q:\n",
    "\n",
    "    print(hash_map.get(char,0))"
   ]
  },
  {
   "cell_type": "code",
   "execution_count": 106,
   "id": "9b7c68c7-ce5e-49e5-9b4b-94eb29ffa100",
   "metadata": {},
   "outputs": [
    {
     "name": "stdout",
     "output_type": "stream",
     "text": [
      "1\n",
      "3\n",
      "0\n",
      "2\n",
      "5\n",
      "3\n",
      "2\n"
     ]
    }
   ],
   "source": [
    "s = \"AazyxxBBByyzaa@@aa\"\n",
    "\n",
    "q = [\"A\",\"B\",\"d\",\"@\", \"a\", \"y\", \"x\"]\n",
    "\n",
    "hash_list = [0] * 128\n",
    "\n",
    "for cha in s:\n",
    "\n",
    "    ascii_value = ord(cha)\n",
    "\n",
    "    index = ascii_value\n",
    "\n",
    "    hash_list[index] += 1\n",
    "\n",
    "for cha in q:\n",
    "\n",
    "    ascii_value = ord(cha)\n",
    "\n",
    "    index = ascii_value\n",
    "\n",
    "    print(hash_list[index])"
   ]
  },
  {
   "cell_type": "markdown",
   "id": "906e2132-63a5-47f7-85e0-55b97dbefc1c",
   "metadata": {},
   "source": [
    "### Recursion"
   ]
  },
  {
   "cell_type": "code",
   "execution_count": 143,
   "id": "8d12394b-0221-4531-af09-9e09013ebd10",
   "metadata": {},
   "outputs": [
    {
     "name": "stdout",
     "output_type": "stream",
     "text": [
      "hi\n"
     ]
    }
   ],
   "source": [
    "##head recursion 1.job 2.func call\n",
    "def func():\n",
    "    count = 0\n",
    "    if count == 4:\n",
    "        return 0\n",
    "    print(\"hi\")\n",
    "    count+=1\n",
    "    func()\n",
    "func()"
   ]
  },
  {
   "cell_type": "code",
   "execution_count": 129,
   "id": "b8c66230-0876-4bc1-84ca-d4f7dbbdc8d4",
   "metadata": {},
   "outputs": [
    {
     "ename": "RecursionError",
     "evalue": "maximum recursion depth exceeded",
     "output_type": "error",
     "traceback": [
      "\u001b[1;31m---------------------------------------------------------------------------\u001b[0m",
      "\u001b[1;31mRecursionError\u001b[0m                            Traceback (most recent call last)",
      "Cell \u001b[1;32mIn[129], line 9\u001b[0m\n\u001b[0;32m      7\u001b[0m     func()\n\u001b[0;32m      8\u001b[0m     \u001b[38;5;28mprint\u001b[39m(\u001b[38;5;124m\"\u001b[39m\u001b[38;5;124mhi\u001b[39m\u001b[38;5;124m\"\u001b[39m)\n\u001b[1;32m----> 9\u001b[0m func()\n",
      "Cell \u001b[1;32mIn[129], line 7\u001b[0m, in \u001b[0;36mfunc\u001b[1;34m()\u001b[0m\n\u001b[0;32m      5\u001b[0m     \u001b[38;5;28;01mreturn\u001b[39;00m\n\u001b[0;32m      6\u001b[0m count\u001b[38;5;241m+\u001b[39m\u001b[38;5;241m=\u001b[39m\u001b[38;5;241m1\u001b[39m\n\u001b[1;32m----> 7\u001b[0m func()\n\u001b[0;32m      8\u001b[0m \u001b[38;5;28mprint\u001b[39m(\u001b[38;5;124m\"\u001b[39m\u001b[38;5;124mhi\u001b[39m\u001b[38;5;124m\"\u001b[39m)\n",
      "Cell \u001b[1;32mIn[129], line 7\u001b[0m, in \u001b[0;36mfunc\u001b[1;34m()\u001b[0m\n\u001b[0;32m      5\u001b[0m     \u001b[38;5;28;01mreturn\u001b[39;00m\n\u001b[0;32m      6\u001b[0m count\u001b[38;5;241m+\u001b[39m\u001b[38;5;241m=\u001b[39m\u001b[38;5;241m1\u001b[39m\n\u001b[1;32m----> 7\u001b[0m func()\n\u001b[0;32m      8\u001b[0m \u001b[38;5;28mprint\u001b[39m(\u001b[38;5;124m\"\u001b[39m\u001b[38;5;124mhi\u001b[39m\u001b[38;5;124m\"\u001b[39m)\n",
      "    \u001b[1;31m[... skipping similar frames: func at line 7 (2974 times)]\u001b[0m\n",
      "Cell \u001b[1;32mIn[129], line 7\u001b[0m, in \u001b[0;36mfunc\u001b[1;34m()\u001b[0m\n\u001b[0;32m      5\u001b[0m     \u001b[38;5;28;01mreturn\u001b[39;00m\n\u001b[0;32m      6\u001b[0m count\u001b[38;5;241m+\u001b[39m\u001b[38;5;241m=\u001b[39m\u001b[38;5;241m1\u001b[39m\n\u001b[1;32m----> 7\u001b[0m func()\n\u001b[0;32m      8\u001b[0m \u001b[38;5;28mprint\u001b[39m(\u001b[38;5;124m\"\u001b[39m\u001b[38;5;124mhi\u001b[39m\u001b[38;5;124m\"\u001b[39m)\n",
      "\u001b[1;31mRecursionError\u001b[0m: maximum recursion depth exceeded"
     ]
    }
   ],
   "source": [
    "##tail recursion 1. func call 2.job\n",
    "def func():\n",
    "    count = 0\n",
    "    if count == 4:\n",
    "        return\n",
    "    count+=1\n",
    "    func()\n",
    "    print(\"hi\")\n",
    "func()       \n"
   ]
  },
  {
   "cell_type": "code",
   "execution_count": 6,
   "id": "0d6a827b-1a53-4bd8-b6bf-5dab108a024c",
   "metadata": {},
   "outputs": [
    {
     "data": {
      "text/plain": [
       "10"
      ]
     },
     "execution_count": 6,
     "metadata": {},
     "output_type": "execute_result"
    }
   ],
   "source": [
    "def func(n):                     #func(4) will call func(3) will call func(2) will call func(1)\n",
    "    if n==1:                      # 4+3+3\n",
    "        return 1                   # 4 +6\n",
    "    return n+func(n-1)\n",
    "func(4)    \n",
    "    "
   ]
  },
  {
   "cell_type": "markdown",
   "id": "ecc7d6bf-4ef4-4831-bae6-c722be284914",
   "metadata": {},
   "source": [
    "#### factorial "
   ]
  },
  {
   "cell_type": "code",
   "execution_count": 13,
   "id": "ce39a49f-e644-4b08-b6b1-07b79b00308a",
   "metadata": {},
   "outputs": [
    {
     "data": {
      "text/plain": [
       "24"
      ]
     },
     "execution_count": 13,
     "metadata": {},
     "output_type": "execute_result"
    }
   ],
   "source": [
    "def factorial(n):\n",
    "    if n==0 or n ==1:\n",
    "        return 1\n",
    "    return n*factorial(n-1)\n",
    "factorial(4)"
   ]
  },
  {
   "cell_type": "code",
   "execution_count": 3,
   "id": "b43e6ccd-a6b1-489b-9daa-c4ccbe58dcba",
   "metadata": {},
   "outputs": [
    {
     "name": "stdout",
     "output_type": "stream",
     "text": [
      "[7, 2, 3, 4, 1]\n"
     ]
    }
   ],
   "source": [
    "a=[7,4,3,2,1]\n",
    "def reverse(a,l,r):\n",
    "    while l<r:\n",
    "        a[l],a[r]=a[r],a[l]\n",
    "        l+=1\n",
    "        r-=1\n",
    "    return a\n",
    "print(reverse(a,1,3))\n",
    "        \n",
    "    "
   ]
  },
  {
   "cell_type": "code",
   "execution_count": 13,
   "id": "8bf90753-531d-4ad8-a637-9c9c1ea89f4f",
   "metadata": {},
   "outputs": [
    {
     "name": "stdout",
     "output_type": "stream",
     "text": [
      "0\n"
     ]
    }
   ],
   "source": [
    "a=[7,4,3,2,1]\n",
    "def reverse(a,l,r):\n",
    "    if l>=r:\n",
    "        return 0\n",
    "    a[l],a[r]=a[r],a[l]\n",
    "    return reverse(a,l+1,r-1)\n",
    "print(reverse(a,1,3))"
   ]
  },
  {
   "cell_type": "code",
   "execution_count": null,
   "id": "039e4061-78c8-407b-aba9-b2c70197b488",
   "metadata": {},
   "outputs": [],
   "source": [
    "class Solution(object):\n",
    "    def groupAnagrams(self, strs):\n",
    "        \"\"\"\n",
    "        :type strs: List[str]\n",
    "        :rtype: List[List[str]]\n",
    "        \"\"\"\n",
    "        hashmap={}\n",
    "        for word in strs:\n",
    "            key= ''.join(sorted(word))    ###to sort a word\n",
    "            if key not in hashmap:\n",
    "                hashmap[key]=[]\n",
    "            hashmap[key].append(word)\n",
    "        return list(hashmap.values())"
   ]
  },
  {
   "cell_type": "markdown",
   "id": "86bd46a9-4e6f-450b-b865-2ca369a292a9",
   "metadata": {},
   "source": [
    "#### Palindrome"
   ]
  },
  {
   "cell_type": "code",
   "execution_count": 15,
   "id": "9c21ff83-4365-4687-8a20-4f3298a47480",
   "metadata": {},
   "outputs": [
    {
     "name": "stdout",
     "output_type": "stream",
     "text": [
      "False\n"
     ]
    }
   ],
   "source": [
    "s=\"nitin\"\n",
    "def palindrome(s):                  #O(N/2) ~ O(N)\n",
    "    n=len(s)\n",
    "    l=0\n",
    "    r=n-1\n",
    "    while l<r:\n",
    "        if s[l] != s[r]:\n",
    "            return False\n",
    "        l+=1\n",
    "        r-=1\n",
    "    return l == r\n",
    "print(palindrome(s))\n",
    "    "
   ]
  },
  {
   "cell_type": "markdown",
   "id": "a41718c1-b56b-4b61-b70b-35d259ab7cd2",
   "metadata": {},
   "source": [
    "##### recursion"
   ]
  },
  {
   "cell_type": "code",
   "execution_count": 37,
   "id": "5f696227-8d57-4c0b-b35d-04c04251c451",
   "metadata": {},
   "outputs": [
    {
     "data": {
      "text/plain": [
       "False"
      ]
     },
     "execution_count": 37,
     "metadata": {},
     "output_type": "execute_result"
    }
   ],
   "source": [
    "s=\"nitin\"\n",
    "n=len(s)-1\n",
    "def recupalind(s,l,r):           #O(N/2) ~ O(N)\n",
    "    if l >= r:\n",
    "        return True\n",
    "    if s[l] != s[r]:\n",
    "        return False\n",
    "    return recupalind(s,l+1,r-1)\n",
    "recupalind(s,0,n)\n",
    "    \n",
    "    "
   ]
  },
  {
   "cell_type": "markdown",
   "id": "bc9807b2-b782-4adf-bbd9-b1f255238e3e",
   "metadata": {},
   "source": [
    "#### fibonacci"
   ]
  },
  {
   "cell_type": "code",
   "execution_count": 48,
   "id": "2afc2f1d-469c-40b2-a4e1-a76315cbb3c5",
   "metadata": {},
   "outputs": [
    {
     "data": {
      "text/plain": [
       "55"
      ]
     },
     "execution_count": 48,
     "metadata": {},
     "output_type": "execute_result"
    }
   ],
   "source": [
    "def fibonacci(n):\n",
    "    if n == 0 :\n",
    "        return 0\n",
    "    if n == 1 :\n",
    "        return 1\n",
    "    return fibonacci(n-1)+fibonacci(n-2)\n",
    "fibonacci(10)\n",
    "    "
   ]
  },
  {
   "cell_type": "code",
   "execution_count": null,
   "id": "2b66080a-a34a-4828-8c02-8c68f7a32e6e",
   "metadata": {},
   "outputs": [],
   "source": []
  },
  {
   "cell_type": "code",
   "execution_count": null,
   "id": "9285a4a1-0d1b-4158-9869-5b5405cb62bc",
   "metadata": {},
   "outputs": [],
   "source": []
  },
  {
   "cell_type": "code",
   "execution_count": null,
   "id": "35852fd7-6312-48bd-946b-d7d7bc471da8",
   "metadata": {},
   "outputs": [],
   "source": []
  },
  {
   "cell_type": "code",
   "execution_count": null,
   "id": "ba71eb89-6e17-49f0-aa63-5a80f9aed725",
   "metadata": {},
   "outputs": [],
   "source": []
  },
  {
   "cell_type": "code",
   "execution_count": null,
   "id": "5dbd7e0c-70bc-465b-a43d-4126714ccc7b",
   "metadata": {},
   "outputs": [],
   "source": []
  },
  {
   "cell_type": "code",
   "execution_count": null,
   "id": "528f18a1-efad-474f-9a3e-a88a5ea6ee7e",
   "metadata": {},
   "outputs": [],
   "source": []
  }
 ],
 "metadata": {
  "kernelspec": {
   "display_name": "Python [conda env:base] *",
   "language": "python",
   "name": "conda-base-py"
  },
  "language_info": {
   "codemirror_mode": {
    "name": "ipython",
    "version": 3
   },
   "file_extension": ".py",
   "mimetype": "text/x-python",
   "name": "python",
   "nbconvert_exporter": "python",
   "pygments_lexer": "ipython3",
   "version": "3.12.7"
  }
 },
 "nbformat": 4,
 "nbformat_minor": 5
}
