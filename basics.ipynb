{
 "cells": [
  {
   "cell_type": "markdown",
   "id": "02b6ac4e-2cd0-4a47-87a1-c9353682b720",
   "metadata": {},
   "source": [
    "# strings with +*"
   ]
  },
  {
   "cell_type": "code",
   "execution_count": 15,
   "id": "eb2e2c0e-1630-449b-b8c4-0f5a3d96d479",
   "metadata": {},
   "outputs": [
    {
     "data": {
      "text/plain": [
       "'abcabcabc'"
      ]
     },
     "execution_count": 15,
     "metadata": {},
     "output_type": "execute_result"
    }
   ],
   "source": [
    "a = 'abc'\n",
    "ab = a + a + a\n",
    "ab"
   ]
  },
  {
   "cell_type": "code",
   "execution_count": 11,
   "id": "2e1af96d-329b-4bc7-9249-0c1cbd7d6f59",
   "metadata": {},
   "outputs": [
    {
     "data": {
      "text/plain": [
       "'abcabcabc'"
      ]
     },
     "execution_count": 11,
     "metadata": {},
     "output_type": "execute_result"
    }
   ],
   "source": [
    "bc = a * 3\n",
    "bc"
   ]
  },
  {
   "cell_type": "markdown",
   "id": "6726e33c-d546-460a-8410-aacf23d4b302",
   "metadata": {},
   "source": [
    "# int with +*"
   ]
  },
  {
   "cell_type": "code",
   "execution_count": 22,
   "id": "0604aee4-65b3-4eb1-afa6-4b9438aaf5f8",
   "metadata": {},
   "outputs": [
    {
     "data": {
      "text/plain": [
       "30"
      ]
     },
     "execution_count": 22,
     "metadata": {},
     "output_type": "execute_result"
    }
   ],
   "source": [
    "a = 10\n",
    "ab = a+a+a\n",
    "ab"
   ]
  },
  {
   "cell_type": "code",
   "execution_count": 24,
   "id": "f2c3f84d-224c-41f6-936b-aafc0932b248",
   "metadata": {},
   "outputs": [
    {
     "data": {
      "text/plain": [
       "30"
      ]
     },
     "execution_count": 24,
     "metadata": {},
     "output_type": "execute_result"
    }
   ],
   "source": [
    "bc = a*3\n",
    "bc"
   ]
  },
  {
   "cell_type": "markdown",
   "id": "a7a7f1f2-5c3e-4bd0-b924-213b742c0b55",
   "metadata": {},
   "source": [
    "# diff btw \"\" and '' and using \\ for seperating '''"
   ]
  },
  {
   "cell_type": "code",
   "execution_count": 26,
   "id": "700b41e0-8531-4809-abad-3bf0dcb29468",
   "metadata": {},
   "outputs": [
    {
     "name": "stdout",
     "output_type": "stream",
     "text": [
      "i don't want to come\n"
     ]
    }
   ],
   "source": [
    "print(\"i don't want to come\")"
   ]
  },
  {
   "cell_type": "code",
   "execution_count": 28,
   "id": "c6301fe2-a240-4fcd-94d6-efc22d27a83f",
   "metadata": {},
   "outputs": [
    {
     "ename": "SyntaxError",
     "evalue": "unterminated string literal (detected at line 1) (83087966.py, line 1)",
     "output_type": "error",
     "traceback": [
      "\u001b[1;36m  Cell \u001b[1;32mIn[28], line 1\u001b[1;36m\u001b[0m\n\u001b[1;33m    print('i don't want to come')\u001b[0m\n\u001b[1;37m                               ^\u001b[0m\n\u001b[1;31mSyntaxError\u001b[0m\u001b[1;31m:\u001b[0m unterminated string literal (detected at line 1)\n"
     ]
    }
   ],
   "source": [
    "print('i don't want to come')"
   ]
  },
  {
   "cell_type": "code",
   "execution_count": 31,
   "id": "8ddcf584-4244-483b-a01f-9560866a9e3a",
   "metadata": {},
   "outputs": [
    {
     "name": "stdout",
     "output_type": "stream",
     "text": [
      "i don't want to come\n"
     ]
    }
   ],
   "source": [
    "print('i don\\'t want to come')"
   ]
  },
  {
   "cell_type": "markdown",
   "id": "3397887f-e7a3-469c-a2e0-df2a4c6c2a56",
   "metadata": {},
   "source": [
    "## methods\n",
    "#### s.lower(), s.upper() -- returns the lowercase or uppercase version of the string\n",
    "#### s.strip() -- returns a string with whitespace removed from the start and end\n",
    "#### s.isalpha()/s.isdigit()/s.isspace()... -- tests if all the string chars are in the various character classes\n",
    "#### s.startswith('other'), s.endswith('other') -- tests if the string starts or ends with the given other string\n",
    "#### s.find('other') -- searches for the given other string (not a regular expression) within s, and returns the first index where it begins or -1 if not    found\n",
    "#### s.replace('old', 'new') -- returns a string where all occurrences of 'old' have been replaced by 'new'\n",
    "#### s.split('delim') -- returns a list of substrings separated by the given delimiter. The delimiter is not a regular expression, it's just text.'aaa,bbb,ccc'.split(',') -> ['aaa', 'bbb', 'ccc']. As a convenient special case s.split() (with no arguments) splits on all whitespace chars.\n",
    "#### s.join(list) -- opposite of split(), joins the elements in the given list together using the string as the delimiter. e.g. '---'.join(['aaa', 'bbb', 'ccc']) -> aaa---bbb---ccc"
   ]
  },
  {
   "cell_type": "markdown",
   "id": "1ceba3fc-5cff-4567-9305-67fdd8a6a2fc",
   "metadata": {},
   "source": [
    "## String Slices\n",
    "#### The \"slice\" syntax is a handy way to refer to sub-parts of sequences -- typically strings and lists. The slice s[start:end] is the elements beginning at start and extending up to but not including end. Suppose we have s = \"Hello\"\n",
    "\n",
    "#### the string 'hello' with letter indexes 0 1 2 3 4\n",
    "\n",
    "#### s[1:4] is 'ell' -- chars starting at index 1 and extending up to but not including index 4\n",
    "#### s[1:] is 'ello' -- omitting either index defaults to the start or end of the string\n",
    "#### s[:] is 'Hello' -- omitting both always gives us a copy of the whole thing (this is the pythonic way to copy a sequence like a string or list)\n",
    "#### s[1:100] is 'ello' -- an index that is too big is truncated down to the string length\n",
    "#### The standard zero-based index numbers give easy access to chars near the start of the string. As an alternative, Python uses negative numbers to give easy access to the chars at the end of the string: s[-1] is the last char 'o', s[-2] is 'l' the next-to-last char, and so on. Negative index numbers count back from the end of the string:\n",
    "\n",
    "#### s[-1] is 'o' -- last char (1st from the end)\n",
    "#### s[-4] is 'e' -- 4th from the end\n",
    "#### s[:-3] is 'He' -- going up to but not including the last 3 chars.\n",
    "#### s[-3:] is 'llo' -- starting with the 3rd char from the end and extending to the end of the string.\n",
    "#### It is a neat truism of slices that for any index n, s[:n] + s[n:] == s. This works even for n negative or out of bounds. Or put another way s[:n] and s[n:] always partition the string into two string parts, conserving all the characters. As we'll see in the list section later, slices work with lists too."
   ]
  },
  {
   "cell_type": "markdown",
   "id": "8d6c5f0d-5653-4890-8fe8-894af71b107d",
   "metadata": {},
   "source": [
    "## String formatting\n",
    "#### One neat thing python can do is automatically convert objects into a string suitable for printing. Two built-in ways to do this are formatted string literals, also called \"f-strings\", and invoking str.format().\n",
    "#### A formatted literal string is prefixed with 'f' (like the 'r' prefix used for raw strings). Any text outside of curly braces '{}' is printed out directly. Expressions contained in '{}' are are printed out using the format specification described in the format spec. There are lots of neat things you can do with the formatting including truncation and conversion to scientific notation and left/right/center alignment.\n",
    "\n",
    "#### f-strings are very useful when you'd like to print out a table of objects and would like the columns representing different object attributes to be aligned like"
   ]
  },
  {
   "cell_type": "code",
   "execution_count": 54,
   "id": "43da8fcc-1a1a-4679-9dbc-95915e71ff57",
   "metadata": {},
   "outputs": [
    {
     "name": "stdout",
     "output_type": "stream",
     "text": [
      "approximate value = 2.79\n",
      "<class 'float'>\n",
      "car = {'tires': 4, 'doors': 2}\n",
      "<class 'dict'>\n"
     ]
    }
   ],
   "source": [
    "  value = 2.791514\n",
    "  print(f'approximate value = {value:.2f}')  # approximate value = 2.79\n",
    "  print(type(value))\n",
    "\n",
    "  car = {'tires':4, 'doors':2}\n",
    "  print(f'car = {car}') # car = {'tires': 4, 'doors': 2}\n",
    "  print(type(car))"
   ]
  },
  {
   "cell_type": "markdown",
   "id": "34f3eb7d-4766-4a71-8736-6d27cbe7a589",
   "metadata": {},
   "source": [
    "#### see why  to use f string"
   ]
  },
  {
   "cell_type": "code",
   "execution_count": 59,
   "id": "d49fe816-7def-46d7-addf-896c90bae457",
   "metadata": {},
   "outputs": [
    {
     "name": "stdout",
     "output_type": "stream",
     "text": [
      "{'tires': 4, 'doors': 2}\n",
      "My car has 4 tires\n"
     ]
    }
   ],
   "source": [
    "print (car)\n",
    "print(f\"My car has {car['tires']} tires\")\n"
   ]
  },
  {
   "cell_type": "markdown",
   "id": "02e296e9-feef-4143-94e5-8fe67454aa5c",
   "metadata": {},
   "source": [
    "#### without f string"
   ]
  },
  {
   "cell_type": "code",
   "execution_count": null,
   "id": "e56e391b-baa0-4507-bffb-a6545c360bfe",
   "metadata": {},
   "outputs": [],
   "source": [
    "\n",
    "print(\"approximate value = {:.2f}\".format(value))\n"
   ]
  },
  {
   "cell_type": "code",
   "execution_count": 64,
   "id": "93b7ab1c-ef45-4c40-a1a5-09b0c8139308",
   "metadata": {},
   "outputs": [
    {
     "name": "stdout",
     "output_type": "stream",
     "text": [
      "N.X.     || 15 Jones St          ||    70\n",
      "J.P.     || 1005 5th St          ||   400\n",
      "A.A.     || 200001 Bdwy          ||     5\n"
     ]
    }
   ],
   "source": [
    "  address_book = [{'name':'N.X.', 'addr':'15 Jones St', 'bonus': 70},\n",
    "      {'name':'J.P.', 'addr':'1005 5th St', 'bonus': 400},\n",
    "      {'name':'A.A.', 'addr':'200001 Bdwy', 'bonus': 5},]\n",
    "\n",
    "  for person in address_book:\n",
    "    print(f'{person[\"name\"]:8} || {person[\"addr\"]:20} || {person[\"bonus\"]:>5}')\n",
    "\n",
    "  # N.X.     || 15 Jones St          ||    70\n",
    "  # J.P.     || 1005 5th St          ||   400\n",
    "  # A.A.     || 200001 Bdwy          ||     5"
   ]
  },
  {
   "cell_type": "markdown",
   "id": "c8f01871-92f1-4121-9acc-a75fa33d91c4",
   "metadata": {},
   "source": [
    "## String %\n",
    "#### Python also has an older printf()-like facility to put together a string. The % operator takes a printf-type format string on the left (%d int, %s string, %f/%g floating point), and the matching values in a tuple on the right (a tuple is made of values separated by commas, typically grouped inside parentheses):"
   ]
  },
  {
   "cell_type": "code",
   "execution_count": 71,
   "id": "36719552-3dcb-4d3d-bc17-b9568da08b50",
   "metadata": {},
   "outputs": [
    {
     "data": {
      "text/plain": [
       "\"3 little pigs come out, or I'll huff, and I'll puff, and I'll blow your house down.\""
      ]
     },
     "execution_count": 71,
     "metadata": {},
     "output_type": "execute_result"
    }
   ],
   "source": [
    "  # % operator\n",
    "  text = \"%d little pigs come out, or I'll %s, and I'll %s, and I'll blow your %s down.\" % (3, 'huff', 'puff', 'house')\n",
    "text"
   ]
  },
  {
   "cell_type": "code",
   "execution_count": 77,
   "id": "a7a8d36b-9e01-4444-a178-01687860037c",
   "metadata": {},
   "outputs": [
    {
     "data": {
      "text/plain": [
       "\"3 little pigs come out, or I'll huff, and I'll puff, and I'll blow your house down.\""
      ]
     },
     "execution_count": 77,
     "metadata": {},
     "output_type": "execute_result"
    }
   ],
   "source": [
    "  # Add parentheses to make the long line work:\n",
    "  text = (\n",
    "    \"%d little pigs come out, or I'll %s, and I'll %s, and I'll blow your %s down.\"\n",
    "    % (3, 'huff', 'puff', 'house'))\n",
    "  text"
   ]
  },
  {
   "cell_type": "markdown",
   "id": "7fdaf880-5a6c-4c75-a019-aec95998b11b",
   "metadata": {},
   "source": [
    "## Strings (Unicode vs bytes)\n",
    "#### Regular Python strings are unicode.\n",
    "\n",
    "#### Python also supports strings composed of plain bytes (denoted by the prefix 'b' in front of a string literal) like:"
   ]
  },
  {
   "cell_type": "code",
   "execution_count": 86,
   "id": "d516e2f8-6c28-429b-abcc-406ad575615d",
   "metadata": {},
   "outputs": [
    {
     "data": {
      "text/plain": [
       "bytes"
      ]
     },
     "execution_count": 86,
     "metadata": {},
     "output_type": "execute_result"
    }
   ],
   "source": [
    " byte_string = b'A byte string'\n",
    " byte_string\n",
    "type( byte_string)\n",
    "\n"
   ]
  },
  {
   "cell_type": "markdown",
   "id": "ce93ff29-d098-4294-8b4e-c9c6cdc10e69",
   "metadata": {},
   "source": [
    "#### A unicode string is a different type of object from a byte string but various libraries such as regular expressions work correctly if passed either type of string.\n",
    "\n",
    "#### To convert a regular Python string to bytes, call the encode() method on the string. Going the other direction, the byte string decode() method converts encoded plain bytes to a unicode string:"
   ]
  },
  {
   "cell_type": "code",
   "execution_count": 94,
   "id": "72149ce0-b0a1-49dd-b72e-496c7eafc588",
   "metadata": {},
   "outputs": [
    {
     "name": "stdout",
     "output_type": "stream",
     "text": [
      "b'A unicode \\xc6\\x8e string \\xc3\\xb1'\n",
      "A unicode Ǝ string ñ\n",
      "<class 'bytes'>\n",
      "<class 'str'>\n"
     ]
    }
   ],
   "source": [
    " ustring = 'A unicode \\u018e string \\xf1'\n",
    " b = ustring.encode('utf-8')\n",
    " \n",
    "# b'A unicode \\xc6\\x8e string \\xc3\\xb1'  ## bytes of utf-8 encoding. Note the b-prefix.\n",
    " t = b.decode('utf-8')                ## Convert bytes back to a unicode string\n",
    " t == ustring                        ## It's the same as the original, yay!\n",
    "print(b)\n",
    "print(t)\n",
    "print(type(b))\n",
    "print(type(t))"
   ]
  },
  {
   "cell_type": "markdown",
   "id": "a84802bd-8987-4348-8827-e4993bad430b",
   "metadata": {},
   "source": [
    "# LISTS"
   ]
  },
  {
   "cell_type": "markdown",
   "id": "a2f3b4f2-a9f7-4a91-a92d-444df5b58642",
   "metadata": {},
   "source": [
    "#### Python has a great built-in list type named \"list\". List literals are written within square brackets [ ]. Lists work similarly to strings -- use the len() function and square brackets [ ] to access data, with the first element at index 0."
   ]
  },
  {
   "cell_type": "code",
   "execution_count": 98,
   "id": "8401dc7b-8d14-46e0-baf8-c9b58d611dd8",
   "metadata": {},
   "outputs": [
    {
     "name": "stdout",
     "output_type": "stream",
     "text": [
      "red\n",
      "green\n",
      "3\n"
     ]
    }
   ],
   "source": [
    "  colors = ['red', 'blue', 'green']\n",
    "  print(colors[0])    ## red\n",
    "  print(colors[2])    ## green\n",
    "  print(len(colors))  ## 3"
   ]
  },
  {
   "cell_type": "markdown",
   "id": "12772387-b507-4361-ab25-346212a09eb0",
   "metadata": {},
   "source": [
    "#### Assignment with an = on lists does not make a copy. Instead, assignment makes the two variables point to the one list in memory."
   ]
  },
  {
   "cell_type": "code",
   "execution_count": 102,
   "id": "b4e67022-4574-4aa8-87a0-997f932c0cca",
   "metadata": {},
   "outputs": [
    {
     "data": {
      "text/plain": [
       "['red', 'blue', 'green']"
      ]
     },
     "execution_count": 102,
     "metadata": {},
     "output_type": "execute_result"
    }
   ],
   "source": [
    "  b = colors   ## Does not copy the list\n",
    "  b"
   ]
  },
  {
   "cell_type": "markdown",
   "id": "75cef6ff-4ac0-4ef7-9186-3bb8691bd2e7",
   "metadata": {},
   "source": [
    "#### + used to append values in the list"
   ]
  },
  {
   "cell_type": "code",
   "execution_count": 105,
   "id": "d4ed9ca1-9f42-4d8b-a79d-ae896dbc512f",
   "metadata": {},
   "outputs": [
    {
     "data": {
      "text/plain": [
       "['red', 'blue', 'green', 'yellow']"
      ]
     },
     "execution_count": 105,
     "metadata": {},
     "output_type": "execute_result"
    }
   ],
   "source": [
    "b = colors + ['yellow']\n",
    "b"
   ]
  },
  {
   "cell_type": "markdown",
   "id": "807e98db-fbc8-4bbc-9e64-7c97ab797f83",
   "metadata": {},
   "source": [
    "# FOR and IN\n",
    "#### Python's *for* and *in* constructs are extremely useful, and the first use of them we'll see is with lists. The *for* construct -- for var in list -- is an easy way to look at each element in a list (or other collection). Do not add or remove from the list during iteration."
   ]
  },
  {
   "cell_type": "code",
   "execution_count": 109,
   "id": "3c845a6b-8305-4b1f-b6ab-f4152d59fae8",
   "metadata": {},
   "outputs": [
    {
     "name": "stdout",
     "output_type": "stream",
     "text": [
      "30\n"
     ]
    }
   ],
   "source": [
    "  squares = [1, 4, 9, 16]\n",
    "  sum = 0\n",
    "  for num in squares:\n",
    "    sum += num\n",
    "  print(sum)  ## 30"
   ]
  },
  {
   "cell_type": "markdown",
   "id": "63afa7d9-62ce-4d91-ac2b-bd569271340b",
   "metadata": {},
   "source": [
    "### Note : If you know what sort of thing is in the list, use a variable name in the loop that captures that information such as \"num\", or \"name\", or \"url\". Since Python code does not have other syntax to remind you of types, your variable names are a key way for you to keep straight what is going on. (This is a little misleading. As you gain more exposure to python, you'll see references to type hints which allow you to add typing information to your function definitions. Python doesn't use these type hints when it runs your programs. They are used by other programs such as IDEs (integrated development environments) and static analysis tools like linters/type checkers to validate if your functions are called with compatible arguments.)"
   ]
  },
  {
   "cell_type": "markdown",
   "id": "153d6c42-ec18-411d-9eb8-3c2a4080dbe1",
   "metadata": {},
   "source": [
    "#### The *in* construct on its own is an easy way to test if an element appears in a list (or other collection) -- value in collection -- tests if the value is in the collection, returning True/False."
   ]
  },
  {
   "cell_type": "markdown",
   "id": "ecdfb89f-4633-4c4c-b1af-ed4ac29a55ca",
   "metadata": {},
   "source": [
    "#### down 3 cells shows how list works"
   ]
  },
  {
   "cell_type": "code",
   "execution_count": 114,
   "id": "a59425c3-bf28-42ba-825a-3fc49ff3461c",
   "metadata": {},
   "outputs": [
    {
     "name": "stdout",
     "output_type": "stream",
     "text": [
      "yay\n"
     ]
    }
   ],
   "source": [
    "  list = ['larry', 'curly', 'moe']\n",
    "  if 'curly' in list:\n",
    "    print('yay') ## yay"
   ]
  },
  {
   "cell_type": "code",
   "execution_count": 122,
   "id": "b52f9d85-3157-4b04-944a-83d1304c508e",
   "metadata": {},
   "outputs": [
    {
     "name": "stdout",
     "output_type": "stream",
     "text": [
      "yay\n",
      "yay\n",
      "yay\n"
     ]
    }
   ],
   "source": [
    "  list = ['larry', 'curly', 'moe']\n",
    "  for name in list:\n",
    "      if 'curly' in list:\n",
    "          print('yay') ## yay\n",
    "      else:\n",
    "          print(not found)"
   ]
  },
  {
   "cell_type": "code",
   "execution_count": 125,
   "id": "ea5bcc39-9e4d-424d-aa9b-890c56df6b48",
   "metadata": {},
   "outputs": [
    {
     "name": "stdout",
     "output_type": "stream",
     "text": [
      "not found\n",
      "yay\n",
      "not found\n"
     ]
    }
   ],
   "source": [
    "for name in list:\n",
    "    if name == 'curly':\n",
    "        print('yay')       # prints only once when it hits 'curly'\n",
    "    else:\n",
    "        print('not found')\n"
   ]
  },
  {
   "cell_type": "markdown",
   "id": "e023c7ee-bf98-4c67-93ff-97a3737ec3b0",
   "metadata": {},
   "source": [
    "## while"
   ]
  },
  {
   "cell_type": "code",
   "execution_count": 130,
   "id": "fc10e55c-4fe4-4f66-b3cc-733ac53b6356",
   "metadata": {},
   "outputs": [
    {
     "name": "stdout",
     "output_type": "stream",
     "text": [
      "1\n",
      "4\n",
      "7\n",
      "0\n"
     ]
    }
   ],
   "source": [
    "  ## Access every 3rd element in a list\n",
    "a = [1,2,3,4,5,6,7,8,9,0]  \n",
    "i = 0\n",
    "  while i < len(a):\n",
    "    print(a[i])\n",
    "    i = i + 3"
   ]
  },
  {
   "cell_type": "markdown",
   "id": "582db457-1dfb-400c-b72d-a3e180383192",
   "metadata": {},
   "source": [
    "# List Methods\n",
    "#### > list.append(elem) -- adds a single element to the end of the list. Common error: does not return the new list, just modifies the original.\n",
    "#### > list.insert(index, elem) -- inserts the element at the given index, shifting elements to the right.\n",
    "#### > list.extend(list2) adds the elements in list2 to the end of the list. Using + or += on a list is similar to using extend().\n",
    "#### > list.index(elem) -- searches for the given element from the start of the list and returns its index. Throws a ValueError if the element does not appear (use \"in\" to check without a ValueError).\n",
    "#### > list.remove(elem) -- searches for the first instance of the given element and removes it (throws ValueError if not present)\n",
    "#### > list.sort() -- sorts the list in place (does not return it). (The sorted() function shown later is preferred.)\n",
    "#### > list.reverse() -- reverses the list in place (does not return it)\n",
    "#### > list.pop(index) -- removes and returns the element at the given index. Returns the rightmost element if index is omitted (roughly the opposite of append())."
   ]
  },
  {
   "cell_type": "code",
   "execution_count": 136,
   "id": "4dc90c3c-b0c7-4f01-ad34-e59541c0cb36",
   "metadata": {},
   "outputs": [
    {
     "name": "stdout",
     "output_type": "stream",
     "text": [
      "['xxx', 'larry', 'curly', 'moe', 'shemp', 'yyy', 'zzz']\n",
      "2\n",
      "['xxx', 'moe', 'shemp', 'yyy', 'zzz']\n"
     ]
    }
   ],
   "source": [
    "  list = ['larry', 'curly', 'moe']\n",
    "  list.append('shemp')         ## append elem at end\n",
    "  list.insert(0, 'xxx')        ## insert elem at index 0\n",
    "  list.extend(['yyy', 'zzz'])  ## add list of elems at end\n",
    "  print(list)  ## ['xxx', 'larry', 'curly', 'moe', 'shemp', 'yyy', 'zzz']\n",
    "  print(list.index('curly'))    ## 2\n",
    "\n",
    "  list.remove('curly')         ## search and remove that element\n",
    "  list.pop(1)                  ## removes and returns 'larry'\n",
    "  print(list)  ## ['xxx', 'moe', 'shemp', 'yyy', 'zzz']"
   ]
  },
  {
   "cell_type": "code",
   "execution_count": 138,
   "id": "12488ae9-1c1f-4f30-92c1-993253566906",
   "metadata": {},
   "outputs": [
    {
     "name": "stdout",
     "output_type": "stream",
     "text": [
      "None\n",
      "[1, 2, 3, 4, 4]\n"
     ]
    }
   ],
   "source": [
    "  list = [1, 2, 3]\n",
    "  print(list.append(4))   ## NO, does not work, append() returns None\n",
    "  ## Correct pattern:\n",
    "  list.append(4)\n",
    "  print(list)  ## [1, 2, 3, 4]"
   ]
  },
  {
   "cell_type": "code",
   "execution_count": 142,
   "id": "1ecf5186-7d12-4682-8449-1efc6c428f91",
   "metadata": {},
   "outputs": [
    {
     "data": {
      "text/plain": [
       "['a', 'b']"
      ]
     },
     "execution_count": 142,
     "metadata": {},
     "output_type": "execute_result"
    }
   ],
   "source": [
    "  list = []          ## Start as the empty list\n",
    "  list.append('a')   ## Use append() to add elements\n",
    "  list.append('b')\n",
    "list"
   ]
  },
  {
   "cell_type": "code",
   "execution_count": 163,
   "id": "8c90a435-caed-4882-81bb-f9b5708bc215",
   "metadata": {},
   "outputs": [
    {
     "name": "stdout",
     "output_type": "stream",
     "text": [
      "['b', 'c']\n",
      "['z', 'c', 'd']\n",
      "['f', 'b', 'c', 'd']\n"
     ]
    }
   ],
   "source": [
    "  list = ['a', 'b', 'c', 'd']\n",
    "  print(list[1:-1])   ## ['b', 'c'] 1th will be included and -1 will not i.e always [_incl_:_not_]\n",
    "  list[0:2] = 'z'    ## replace ['a', 'b'] with ['z']\n",
    "  print(list)      ## ['z', 'c', 'd']\n",
    "listt = ['a','b','c','d']\n",
    "listt [:1] ='f'\n",
    "print(listt)"
   ]
  },
  {
   "cell_type": "markdown",
   "id": "cc0e49db-f84d-481d-878f-a9c1947b3c03",
   "metadata": {},
   "source": [
    "## Sorting"
   ]
  },
  {
   "cell_type": "code",
   "execution_count": 173,
   "id": "9c844e2b-d696-4325-8ba4-80374465513e",
   "metadata": {},
   "outputs": [
    {
     "name": "stdout",
     "output_type": "stream",
     "text": [
      "[1, 3, 4, 5]\n",
      "[5, 4, 3, 1]\n",
      "[5, 1, 4, 3]\n"
     ]
    }
   ],
   "source": [
    "  a = [5, 1, 4, 3]\n",
    "  print(sorted(a))\n",
    "  print(sorted(a, reverse = True))  ## [1, 3, 4, 5]\n",
    "  print(a)  ## [5, 1, 4, 3]"
   ]
  },
  {
   "cell_type": "code",
   "execution_count": 165,
   "id": "cc75adb9-de98-417e-b25a-f9cfe4f1648e",
   "metadata": {},
   "outputs": [
    {
     "name": "stdout",
     "output_type": "stream",
     "text": [
      "['BB', 'CC', 'aa', 'zz']\n",
      "['zz', 'aa', 'CC', 'BB']\n"
     ]
    }
   ],
   "source": [
    "  strs = ['aa', 'BB', 'zz', 'CC']\n",
    "  print(sorted(strs))  ## ['BB', 'CC', 'aa', 'zz'] (case sensitive)\n",
    "  print(sorted(strs, reverse=True))   ## ['zz', 'aa', 'CC', 'BB']"
   ]
  },
  {
   "cell_type": "code",
   "execution_count": null,
   "id": "b4ac24c6-22bc-4154-8191-3ff9ca6c9e35",
   "metadata": {},
   "outputs": [],
   "source": [
    "  strs = ['ccc', 'aaaa', 'd', 'bb']\n",
    "  print(sorted(strs, key=len))  ## ['d', 'bb', 'ccc', 'aaaa']"
   ]
  },
  {
   "cell_type": "code",
   "execution_count": 167,
   "id": "db603b8c-012c-4b4c-8931-8c671bad67cb",
   "metadata": {},
   "outputs": [
    {
     "name": "stdout",
     "output_type": "stream",
     "text": [
      "['aa', 'BB', 'CC', 'zz']\n"
     ]
    }
   ],
   "source": [
    "  ## \"key\" argument specifying str.lower function to use for sorting\n",
    "  print(sorted(strs, key=str.lower))  ## ['aa', 'BB', 'CC', 'zz']"
   ]
  },
  {
   "cell_type": "code",
   "execution_count": 175,
   "id": "fb19cd9d-40c0-4175-aaec-d4c06a21e9a5",
   "metadata": {},
   "outputs": [
    {
     "name": "stdout",
     "output_type": "stream",
     "text": [
      "['wa', 'zb', 'xc', 'yd']\n"
     ]
    }
   ],
   "source": [
    "  ## Say we have a list of strings we want to sort by the last letter of the string.\n",
    "  strs = ['xc', 'zb', 'yd' ,'wa']\n",
    "\n",
    "  ## Write a little function that takes a string, and returns its last letter.\n",
    "  ## This will be the key function (takes in 1 value, returns 1 value).\n",
    "  def MyFn(s):\n",
    "    return s[-1]\n",
    "\n",
    "  ## Now pass key=MyFn to sorted() to sort by the last letter:\n",
    "  print(sorted(strs, key=MyFn))  ## ['wa', 'zb', 'xc', 'yd']"
   ]
  },
  {
   "cell_type": "code",
   "execution_count": 187,
   "id": "874edaad-accd-4259-bcdd-7acb38af82f8",
   "metadata": {},
   "outputs": [
    {
     "name": "stdout",
     "output_type": "stream",
     "text": [
      "None\n",
      "None\n"
     ]
    }
   ],
   "source": [
    "alist=['xc', 'zb', 'yd' ,'wa']\n",
    "blist = ['ccc', 'aaaa', 'd', 'bb']\n",
    " alist.sort()           ## correct\n",
    "alist = blist.sort() ## Incorrect. sort() returns None\n",
    "print(alist)"
   ]
  },
  {
   "cell_type": "markdown",
   "id": "6e6e302b-18d6-41f4-92cd-4f5ce8b9f8cc",
   "metadata": {},
   "source": [
    "## Tuples\n",
    "#### A tuple is a fixed size grouping of elements, such as an (x, y) co-ordinate. Tuples are like lists, except they are immutable and do not change size (tuples are not strictly immutable since one of the contained elements could be mutable). Tuples play a sort of \"struct\" role in Python -- a convenient way to pass around a little logical, fixed size bundle of values. A function that needs to return multiple values can just return a tuple of the values. For example, if I wanted to have a list of 3-d coordinates, the natural python representation would be a list of tuples, where each tuple is size 3 holding one (x, y, z) group.\n",
    "\n",
    "#### To create a tuple, just list the values within parenthesis separated by commas. The \"empty\" tuple is just an empty pair of parenthesis. Accessing the elements in a tuple is just like a list -- len(), [ ], for, in, etc. all work the same."
   ]
  },
  {
   "cell_type": "code",
   "execution_count": 195,
   "id": "392c9d18-9986-4648-9290-2e44e0cf0547",
   "metadata": {},
   "outputs": [
    {
     "name": "stdout",
     "output_type": "stream",
     "text": [
      "3\n",
      "hi\n"
     ]
    },
    {
     "ename": "TypeError",
     "evalue": "'tuple' object does not support item assignment",
     "output_type": "error",
     "traceback": [
      "\u001b[1;31m---------------------------------------------------------------------------\u001b[0m",
      "\u001b[1;31mTypeError\u001b[0m                                 Traceback (most recent call last)",
      "Cell \u001b[1;32mIn[195], line 4\u001b[0m\n\u001b[0;32m      2\u001b[0m \u001b[38;5;28mprint\u001b[39m(\u001b[38;5;28mlen\u001b[39m(\u001b[38;5;28mtuple\u001b[39m))  \u001b[38;5;66;03m## 3\u001b[39;00m\n\u001b[0;32m      3\u001b[0m \u001b[38;5;28mprint\u001b[39m(\u001b[38;5;28mtuple\u001b[39m[\u001b[38;5;241m2\u001b[39m])    \u001b[38;5;66;03m## hi\u001b[39;00m\n\u001b[1;32m----> 4\u001b[0m \u001b[38;5;28mtuple\u001b[39m[\u001b[38;5;241m2\u001b[39m] \u001b[38;5;241m=\u001b[39m \u001b[38;5;124m'\u001b[39m\u001b[38;5;124mbye\u001b[39m\u001b[38;5;124m'\u001b[39m  \u001b[38;5;66;03m## NO, tuples cannot be changed\u001b[39;00m\n\u001b[0;32m      5\u001b[0m \u001b[38;5;28mtuple\u001b[39m \u001b[38;5;241m=\u001b[39m (\u001b[38;5;241m1\u001b[39m, \u001b[38;5;241m2\u001b[39m, \u001b[38;5;124m'\u001b[39m\u001b[38;5;124mbye\u001b[39m\u001b[38;5;124m'\u001b[39m)\n",
      "\u001b[1;31mTypeError\u001b[0m: 'tuple' object does not support item assignment"
     ]
    }
   ],
   "source": [
    "  tuple = (1, 2, 'hi')\n",
    "  print(len(tuple))  ## 3\n",
    "  print(tuple[2])    ## hi\n",
    "  tuple[2] = 'bye'  ## NO, tuples cannot be changed\n",
    "  tuple = (1, 2, 'bye')  ## this works"
   ]
  },
  {
   "cell_type": "markdown",
   "id": "556a1cfe-7667-4935-9446-6d12cf618b6b",
   "metadata": {},
   "source": [
    "#### To create a size-1 tuple, the lone element must be followed by a comma.\n",
    "#### It's a funny case in the syntax, but the comma is necessary to distinguish the tuple from the ordinary case of putting an expression in parentheses. In some cases you can omit the parenthesis and Python will see from the commas that you intend a tuple."
   ]
  },
  {
   "cell_type": "code",
   "execution_count": 199,
   "id": "b345a612-7961-4cf1-9d9d-18ae70252298",
   "metadata": {},
   "outputs": [
    {
     "data": {
      "text/plain": [
       "('hi',)"
      ]
     },
     "execution_count": 199,
     "metadata": {},
     "output_type": "execute_result"
    }
   ],
   "source": [
    "  tuple = ('hi',) ## size-1 tuple\n",
    "tuple"
   ]
  },
  {
   "cell_type": "code",
   "execution_count": 209,
   "id": "9637848b-ac45-41a2-a560-be8592a7b600",
   "metadata": {},
   "outputs": [],
   "source": [
    "def Foo():\n",
    "    pass"
   ]
  },
  {
   "cell_type": "code",
   "execution_count": 211,
   "id": "f9531d37-915f-4775-a04c-9e500850568c",
   "metadata": {},
   "outputs": [
    {
     "name": "stdout",
     "output_type": "stream",
     "text": [
      "hike\n"
     ]
    },
    {
     "ename": "TypeError",
     "evalue": "cannot unpack non-iterable NoneType object",
     "output_type": "error",
     "traceback": [
      "\u001b[1;31m---------------------------------------------------------------------------\u001b[0m",
      "\u001b[1;31mTypeError\u001b[0m                                 Traceback (most recent call last)",
      "Cell \u001b[1;32mIn[211], line 3\u001b[0m\n\u001b[0;32m      1\u001b[0m (x, y, z) \u001b[38;5;241m=\u001b[39m (\u001b[38;5;241m42\u001b[39m, \u001b[38;5;241m13\u001b[39m, \u001b[38;5;124m\"\u001b[39m\u001b[38;5;124mhike\u001b[39m\u001b[38;5;124m\"\u001b[39m)\n\u001b[0;32m      2\u001b[0m \u001b[38;5;28mprint\u001b[39m(z)  \u001b[38;5;66;03m## hike\u001b[39;00m\n\u001b[1;32m----> 3\u001b[0m (err_string, err_code) \u001b[38;5;241m=\u001b[39m Foo()\n",
      "\u001b[1;31mTypeError\u001b[0m: cannot unpack non-iterable NoneType object"
     ]
    }
   ],
   "source": [
    "(x, y, z) = (42, 13, \"hike\")\n",
    "print(z)  ## hike\n",
    "(err_string, err_code) = Foo()  ## Foo() returns a length-2 tuple"
   ]
  },
  {
   "cell_type": "markdown",
   "id": "1643e5b5-5fa8-4b16-b8ec-c8cd61b7c382",
   "metadata": {},
   "source": [
    "### List Comprehensions (optional)"
   ]
  },
  {
   "cell_type": "markdown",
   "id": "33f6ddc8-d730-4747-8070-5b62ff591216",
   "metadata": {},
   "source": [
    "#### A list comprehension is a compact way to write an expression that expands to a whole list. Suppose we have a list nums [1, 2, 3, 4], here is the list comprehension to compute a list of their squares [1, 4, 9, 16]:"
   ]
  },
  {
   "cell_type": "code",
   "execution_count": 219,
   "id": "521356f5-8362-4243-a21e-00e80d4ee871",
   "metadata": {},
   "outputs": [
    {
     "data": {
      "text/plain": [
       "[1, 4, 9, 16]"
      ]
     },
     "execution_count": 219,
     "metadata": {},
     "output_type": "execute_result"
    }
   ],
   "source": [
    "  nums = [1, 2, 3, 4]\n",
    "\n",
    "  squares = [ n * n for n in nums ]   ## [1, 4, 9, 16]\n",
    "  squares"
   ]
  },
  {
   "cell_type": "markdown",
   "id": "3c148eb4-ad7f-404e-88b4-e0354458426a",
   "metadata": {},
   "source": [
    "#### The syntax is [ expr for var in list ] -- the for var in list looks like a regular for-loop, but without the colon (:). The expr to its left is evaluated once for each element to give the values for the new list. Here is an example with strings, where each string is changed to upper case with '!!!' appended:"
   ]
  },
  {
   "cell_type": "code",
   "execution_count": 223,
   "id": "af4d1a42-a45c-4778-aedf-3d2b0014080c",
   "metadata": {},
   "outputs": [
    {
     "data": {
      "text/plain": [
       "['HELLO!!!', 'AND!!!', 'GOODBYE!!!']"
      ]
     },
     "execution_count": 223,
     "metadata": {},
     "output_type": "execute_result"
    }
   ],
   "source": [
    "  strs = ['hello', 'and', 'goodbye']\n",
    "\n",
    "  shouting = [ s.upper() + '!!!' for s in strs ]\n",
    "  ## ['HELLO!!!', 'AND!!!', 'GOODBYE!!!']\n",
    "shouting"
   ]
  },
  {
   "cell_type": "code",
   "execution_count": null,
   "id": "90c05474-ab9d-4ddc-b968-65b87b9a44f5",
   "metadata": {},
   "outputs": [],
   "source": [
    "  ## Select values <= 2\n",
    "  nums = [2, 8, 1, 6]\n",
    "  small = [ n for n in nums if n <= 2 ]  ## [2, 1]\n",
    "\n",
    "  ## Select fruits containing 'a', change to upper case\n",
    "  fruits = ['apple', 'cherry', 'banana', 'lemon']\n",
    "  afruits = [ s.upper() for s in fruits if 'a' in s ]\n",
    "  ## ['APPLE', 'BANANA']"
   ]
  },
  {
   "cell_type": "markdown",
   "id": "e6988550-0144-4e9e-93a1-c81f50cf11e5",
   "metadata": {},
   "source": [
    "## dict Hash table   "
   ]
  },
  {
   "cell_type": "markdown",
   "id": "b02ab11e-29e2-4e62-97e9-c85cfe10948e",
   "metadata": {},
   "source": [
    "#### Python's efficient key/value hash table structure is called a \"dict\". The contents of a dict can be written as a series of key:value pairs within braces { }, e.g. dict = {key1:value1, key2:value2, ... }. The \"empty dict\" is just an empty pair of curly braces {}."
   ]
  },
  {
   "cell_type": "code",
   "execution_count": 227,
   "id": "5353ee4d-e2fa-4f67-9801-2946f897a7c3",
   "metadata": {},
   "outputs": [
    {
     "name": "stdout",
     "output_type": "stream",
     "text": [
      "{'a': 'alpha', 'g': 'gamma', 'o': 'omega'}\n",
      "alpha\n",
      "None\n"
     ]
    }
   ],
   "source": [
    "  ## Can build up a dict by starting with the empty dict {}\n",
    "  ## and storing key/value pairs into the dict like this:\n",
    "  ## dict[key] = value-for-that-key\n",
    "  dict = {}\n",
    "  dict['a'] = 'alpha'\n",
    "  dict['g'] = 'gamma'\n",
    "  dict['o'] = 'omega'\n",
    "\n",
    "  print(dict) ## {'a': 'alpha', 'o': 'omega', 'g': 'gamma'}\n",
    "\n",
    "  print(dict['a'])     ## Simple lookup, returns 'alpha'\n",
    "  dict['a'] = 6       ## Put new key/value into dict\n",
    "  'a' in dict         ## True\n",
    "  ## print(dict['z'])                  ## Throws KeyError\n",
    "  if 'z' in dict: print(dict['z'])     ## Avoid KeyError\n",
    "  print(dict.get('z'))  ## None (instead of KeyError)"
   ]
  },
  {
   "cell_type": "code",
   "execution_count": 229,
   "id": "0d013a9a-0123-4377-ad79-86f1bc7bb58d",
   "metadata": {},
   "outputs": [
    {
     "name": "stdout",
     "output_type": "stream",
     "text": [
      "a\n",
      "g\n",
      "o\n",
      "a\n",
      "g\n",
      "o\n",
      "dict_keys(['a', 'g', 'o'])\n",
      "dict_values([6, 'gamma', 'omega'])\n",
      "a 6\n",
      "g gamma\n",
      "o omega\n",
      "dict_items([('a', 6), ('g', 'gamma'), ('o', 'omega')])\n",
      "a > 6\n",
      "g > gamma\n",
      "o > omega\n"
     ]
    }
   ],
   "source": [
    "  ## By default, iterating over a dict iterates over its keys.\n",
    "  ## Note that the keys are in a random order.\n",
    "  for key in dict:\n",
    "    print(key)\n",
    "  ## prints a g o\n",
    "\n",
    "  ## Exactly the same as above\n",
    "  for key in dict.keys():\n",
    "    print(key)\n",
    "\n",
    "  ## Get the .keys() list:\n",
    "  print(dict.keys())  ## dict_keys(['a', 'o', 'g'])\n",
    "\n",
    "  ## Likewise, there's a .values() list of values\n",
    "  print(dict.values())  ## dict_values(['alpha', 'omega', 'gamma'])\n",
    "\n",
    "  ## Common case -- loop over the keys in sorted order,\n",
    "  ## accessing each key/value\n",
    "  for key in sorted(dict.keys()):\n",
    "    print(key, dict[key])\n",
    "\n",
    "  ## .items() is the dict expressed as (key, value) tuples\n",
    "  print(dict.items())  ##  dict_items([('a', 'alpha'), ('o', 'omega'), ('g', 'gamma')])\n",
    "\n",
    "  ## This loop syntax accesses the whole dict by looping\n",
    "  ## over the .items() tuple list, accessing one (key, value)\n",
    "  ## pair on each iteration.\n",
    "  for k, v in dict.items(): print(k, '>', v)\n",
    "  ## a > alpha    o > omega     g > gamma"
   ]
  },
  {
   "cell_type": "markdown",
   "id": "8af584dc-b061-4d75-a2aa-0372a0fa7059",
   "metadata": {},
   "source": [
    "## Dict Formatting\n",
    "#### The % operator works conveniently to substitute values from a dict into a string by name:"
   ]
  },
  {
   "cell_type": "code",
   "execution_count": 237,
   "id": "d46e565e-4b2c-45ab-a037-a18a9cf8c950",
   "metadata": {},
   "outputs": [
    {
     "ename": "KeyError",
     "evalue": "'count'",
     "output_type": "error",
     "traceback": [
      "\u001b[1;31m---------------------------------------------------------------------------\u001b[0m",
      "\u001b[1;31mKeyError\u001b[0m                                  Traceback (most recent call last)",
      "Cell \u001b[1;32mIn[237], line 8\u001b[0m\n\u001b[0;32m      4\u001b[0m s \u001b[38;5;241m=\u001b[39m \u001b[38;5;124m'\u001b[39m\u001b[38;5;124mI want \u001b[39m\u001b[38;5;132;01m%(count)d\u001b[39;00m\u001b[38;5;124m copies of \u001b[39m\u001b[38;5;132;01m%(word)s\u001b[39;00m\u001b[38;5;124m'\u001b[39m \u001b[38;5;241m%\u001b[39m h  \u001b[38;5;66;03m# %d for int, %s for string\u001b[39;00m\n\u001b[0;32m      5\u001b[0m \u001b[38;5;66;03m# 'I want 42 copies of garfield'\u001b[39;00m\n\u001b[0;32m      6\u001b[0m \n\u001b[0;32m      7\u001b[0m \u001b[38;5;66;03m# You can also use str.format().\u001b[39;00m\n\u001b[1;32m----> 8\u001b[0m s \u001b[38;5;241m=\u001b[39m \u001b[38;5;124m'\u001b[39m\u001b[38;5;124mI want \u001b[39m\u001b[38;5;132;01m{count}\u001b[39;00m\u001b[38;5;124m copies of \u001b[39m\u001b[38;5;132;01m{word}\u001b[39;00m\u001b[38;5;124m'\u001b[39m\u001b[38;5;241m.\u001b[39mformat(h)\n",
      "\u001b[1;31mKeyError\u001b[0m: 'count'"
     ]
    }
   ],
   "source": [
    "  h = {}\n",
    "  h['word'] = 'garfield'\n",
    "  h['count'] = 42\n",
    "  s = 'I want %(count)d copies of %(word)s' % h  # %d for int, %s for string\n",
    "  # 'I want 42 copies of garfield'\n",
    "\n",
    "  # You can also use str.format().\n",
    "  s = 'I want {count:d} copies of {word}'.format(h)"
   ]
  },
  {
   "cell_type": "markdown",
   "id": "ac0fd995-e707-421f-bcea-32bdc4a5b97d",
   "metadata": {},
   "source": [
    "## Del\n",
    "#### The \"del\" operator does deletions. In the simplest case, it can remove the definition of a variable, as if that variable had not been defined. Del can also be used on list elements or slices to delete that part of the list and to delete entries from a dictionary"
   ]
  },
  {
   "cell_type": "code",
   "execution_count": 235,
   "id": "e1c9d5d6-67ed-4ec9-a362-e1f96fb97fbc",
   "metadata": {},
   "outputs": [
    {
     "name": "stdout",
     "output_type": "stream",
     "text": [
      "['b']\n",
      "{'a': 1, 'c': 3}\n"
     ]
    }
   ],
   "source": [
    "  var = 6\n",
    "  del var  # var no more!\n",
    "\n",
    "  list = ['a', 'b', 'c', 'd']\n",
    "  del list[0]     ## Delete first element\n",
    "  del list[-2:]   ## Delete last two elements\n",
    "  print(list)      ## ['b']\n",
    "\n",
    "  dict = {'a':1, 'b':2, 'c':3}\n",
    "  del dict['b']   ## Delete 'b' entry\n",
    "  print(dict)      ## {'a':1, 'c':3}"
   ]
  },
  {
   "cell_type": "markdown",
   "id": "950fa729-1ca8-4f7a-aead-d05c7d530474",
   "metadata": {},
   "source": [
    "## Files\n",
    "#### The open() function opens and returns a file handle that can be used to read or write a file in the usual way. The code f = open('name', 'r') opens the file into the variable f, ready for reading operations, and use f.close() when finished. Instead of 'r', use 'w' for writing, and 'a' for append. The standard for-loop works for text files, iterating through the lines of the file (this works only for text files, not binary files). The for-loop technique is a simple and efficient way to look at all the lines in a text file:"
   ]
  },
  {
   "cell_type": "code",
   "execution_count": 240,
   "id": "3a649589-64cd-4a1d-9b0b-d14b50a09a60",
   "metadata": {
    "scrolled": true
   },
   "outputs": [
    {
     "ename": "FileNotFoundError",
     "evalue": "[Errno 2] No such file or directory: 'foo.txt'",
     "output_type": "error",
     "traceback": [
      "\u001b[1;31m---------------------------------------------------------------------------\u001b[0m",
      "\u001b[1;31mFileNotFoundError\u001b[0m                         Traceback (most recent call last)",
      "Cell \u001b[1;32mIn[240], line 2\u001b[0m\n\u001b[0;32m      1\u001b[0m \u001b[38;5;66;03m# Echo the contents of a text file\u001b[39;00m\n\u001b[1;32m----> 2\u001b[0m f \u001b[38;5;241m=\u001b[39m \u001b[38;5;28mopen\u001b[39m(\u001b[38;5;124m'\u001b[39m\u001b[38;5;124mfoo.txt\u001b[39m\u001b[38;5;124m'\u001b[39m, \u001b[38;5;124m'\u001b[39m\u001b[38;5;124mrt\u001b[39m\u001b[38;5;124m'\u001b[39m, encoding\u001b[38;5;241m=\u001b[39m\u001b[38;5;124m'\u001b[39m\u001b[38;5;124mutf-8\u001b[39m\u001b[38;5;124m'\u001b[39m)\n\u001b[0;32m      3\u001b[0m \u001b[38;5;28;01mfor\u001b[39;00m line \u001b[38;5;129;01min\u001b[39;00m f:   \u001b[38;5;66;03m## iterates over the lines of the file\u001b[39;00m\n\u001b[0;32m      4\u001b[0m   \u001b[38;5;28mprint\u001b[39m(line, end\u001b[38;5;241m=\u001b[39m\u001b[38;5;124m'\u001b[39m\u001b[38;5;124m'\u001b[39m)    \u001b[38;5;66;03m## end='' so print does not add an end-of-line char\u001b[39;00m\n",
      "File \u001b[1;32m~\\anaconda3\\Lib\\site-packages\\IPython\\core\\interactiveshell.py:324\u001b[0m, in \u001b[0;36m_modified_open\u001b[1;34m(file, *args, **kwargs)\u001b[0m\n\u001b[0;32m    317\u001b[0m \u001b[38;5;28;01mif\u001b[39;00m file \u001b[38;5;129;01min\u001b[39;00m {\u001b[38;5;241m0\u001b[39m, \u001b[38;5;241m1\u001b[39m, \u001b[38;5;241m2\u001b[39m}:\n\u001b[0;32m    318\u001b[0m     \u001b[38;5;28;01mraise\u001b[39;00m \u001b[38;5;167;01mValueError\u001b[39;00m(\n\u001b[0;32m    319\u001b[0m         \u001b[38;5;124mf\u001b[39m\u001b[38;5;124m\"\u001b[39m\u001b[38;5;124mIPython won\u001b[39m\u001b[38;5;124m'\u001b[39m\u001b[38;5;124mt let you open fd=\u001b[39m\u001b[38;5;132;01m{\u001b[39;00mfile\u001b[38;5;132;01m}\u001b[39;00m\u001b[38;5;124m by default \u001b[39m\u001b[38;5;124m\"\u001b[39m\n\u001b[0;32m    320\u001b[0m         \u001b[38;5;124m\"\u001b[39m\u001b[38;5;124mas it is likely to crash IPython. If you know what you are doing, \u001b[39m\u001b[38;5;124m\"\u001b[39m\n\u001b[0;32m    321\u001b[0m         \u001b[38;5;124m\"\u001b[39m\u001b[38;5;124myou can use builtins\u001b[39m\u001b[38;5;124m'\u001b[39m\u001b[38;5;124m open.\u001b[39m\u001b[38;5;124m\"\u001b[39m\n\u001b[0;32m    322\u001b[0m     )\n\u001b[1;32m--> 324\u001b[0m \u001b[38;5;28;01mreturn\u001b[39;00m io_open(file, \u001b[38;5;241m*\u001b[39margs, \u001b[38;5;241m*\u001b[39m\u001b[38;5;241m*\u001b[39mkwargs)\n",
      "\u001b[1;31mFileNotFoundError\u001b[0m: [Errno 2] No such file or directory: 'foo.txt'"
     ]
    }
   ],
   "source": [
    "  # Echo the contents of a text file\n",
    "  f = open('foo.txt', 'rt', encoding='utf-8')\n",
    "  for line in f:   ## iterates over the lines of the file\n",
    "    print(line, end='')    ## end='' so print does not add an end-of-line char\n",
    "                           ## since 'line' already includes the end-of-line.\n",
    "  f.close()"
   ]
  },
  {
   "cell_type": "markdown",
   "id": "53d910fa-9989-4953-96f7-658d5ce4f53f",
   "metadata": {},
   "source": [
    "#### Reading one line at a time has the nice quality that not all the file needs to fit in memory at one time -- handy if you want to look at every line in a 10 gigabyte file without using 10 gigabytes of memory. The f.readlines() method reads the whole file into memory and returns its contents as a list of its lines. The f.read() method reads the whole file into a single string, which can be a handy way to deal with the text all at once, such as with regular expressions we'll see later.\n",
    "\n",
    "#### For writing, f.write(string) method is the easiest way to write data to an open output file. Or you can use \"print\" with an open file like \"print(string, file=f)\"."
   ]
  },
  {
   "cell_type": "markdown",
   "id": "ca09b0a6-6cd5-446b-89a7-691cdaf4f8ea",
   "metadata": {},
   "source": [
    "## Files Unicode\n",
    "#### To read and write unicode encoded files use a `'t'` mode and explicitly specify an encoding:"
   ]
  },
  {
   "cell_type": "code",
   "execution_count": 244,
   "id": "b595fd1d-3a72-4c9a-8041-68515a092951",
   "metadata": {},
   "outputs": [
    {
     "ename": "IndentationError",
     "evalue": "expected an indented block after 'for' statement on line 2 (3098539093.py, line 5)",
     "output_type": "error",
     "traceback": [
      "\u001b[1;36m  Cell \u001b[1;32mIn[244], line 5\u001b[1;36m\u001b[0m\n\u001b[1;33m    with open('write_test', encoding='utf-8', mode='wt') as f:\u001b[0m\n\u001b[1;37m                                                              ^\u001b[0m\n\u001b[1;31mIndentationError\u001b[0m\u001b[1;31m:\u001b[0m expected an indented block after 'for' statement on line 2\n"
     ]
    }
   ],
   "source": [
    "with open('foo.txt', 'rt', encoding='utf-8') as f:\n",
    "  for line in f:\n",
    "    # here line is a *unicode* string\n",
    "\n",
    "with open('write_test', encoding='utf-8', mode='wt') as f:\n",
    "    f.write('\\u20ACunicode\\u20AC\\n') #  €unicode€\n",
    "    # AKA print('\\u20ACunicode\\u20AC', file=f)  ## which auto-adds end='\\n'"
   ]
  },
  {
   "cell_type": "code",
   "execution_count": null,
   "id": "2c9bceb3-1148-4056-96e8-707e66fa558a",
   "metadata": {},
   "outputs": [],
   "source": []
  }
 ],
 "metadata": {
  "kernelspec": {
   "display_name": "Python [conda env:base] *",
   "language": "python",
   "name": "conda-base-py"
  },
  "language_info": {
   "codemirror_mode": {
    "name": "ipython",
    "version": 3
   },
   "file_extension": ".py",
   "mimetype": "text/x-python",
   "name": "python",
   "nbconvert_exporter": "python",
   "pygments_lexer": "ipython3",
   "version": "3.12.7"
  }
 },
 "nbformat": 4,
 "nbformat_minor": 5
}
